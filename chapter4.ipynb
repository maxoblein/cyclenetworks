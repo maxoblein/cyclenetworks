{
 "cells": [
  {
   "cell_type": "markdown",
   "metadata": {},
   "source": [
    "Code for the analysis of a small toy network for chapter 4 of my final year project\n"
   ]
  },
  {
   "cell_type": "code",
   "execution_count": 1,
   "metadata": {},
   "outputs": [],
   "source": [
    "##Imports \n",
    "import numpy as np\n",
    "import pandas as pd\n",
    "import networkx as nx\n",
    "from itertools import chain, combinations"
   ]
  },
  {
   "cell_type": "code",
   "execution_count": 2,
   "metadata": {},
   "outputs": [
    {
     "name": "stdout",
     "output_type": "stream",
     "text": [
      "hello world\n"
     ]
    }
   ],
   "source": [
    "print('hello world')"
   ]
  },
  {
   "cell_type": "code",
   "execution_count": 3,
   "metadata": {},
   "outputs": [
    {
     "name": "stdout",
     "output_type": "stream",
     "text": [
      "[[0. 0. 0. 0. 0. 0.]\n",
      " [0. 0. 0. 0. 0. 0.]\n",
      " [0. 0. 0. 0. 0. 0.]\n",
      " [0. 0. 0. 0. 0. 0.]\n",
      " [0. 0. 0. 0. 0. 0.]\n",
      " [0. 0. 0. 0. 0. 0.]]\n",
      "[[0. 0. 1. 0. 3. 0.]\n",
      " [0. 0. 1. 0. 0. 3.]\n",
      " [1. 1. 0. 2. 0. 0.]\n",
      " [0. 0. 2. 0. 1. 1.]\n",
      " [3. 0. 0. 1. 0. 0.]\n",
      " [0. 3. 0. 1. 0. 0.]]\n"
     ]
    }
   ],
   "source": [
    "#make adjacency matrix#\n",
    "\n",
    "A = np.zeros((6,6))\n",
    "print(A)\n",
    "links = [[0,4,3],[0,2,1],[1,2,1],[1,5,3],[2,3,2],[3,4,1],[3,5,1]]\n",
    "for i in links:\n",
    "    A[i[0]][i[1]] = i[2]\n",
    "    A[i[1]][i[0]] = i[2]    \n",
    "\n",
    "print(A)\n",
    "\n",
    "# create position vector for plotting x graph\n",
    "\n",
    "pos = {0 : (0,40), 1: (0,20), 2: (10,30), 3: (30,30), 4: (40,40), 5: (40,20)}\n",
    "\n",
    "\n",
    "\n"
   ]
  },
  {
   "cell_type": "code",
   "execution_count": 4,
   "metadata": {},
   "outputs": [],
   "source": [
    "#demands#\n",
    "\n",
    "odPairs = [[0,4],[0,5],[1,4],[1,5]]\n",
    "\n",
    "d15 = 2\n",
    "d16 = 1\n",
    "d25 = 1\n",
    "d26 = 2\n",
    "demands = [d15,d16,d25,d26]"
   ]
  },
  {
   "cell_type": "code",
   "execution_count": 5,
   "metadata": {},
   "outputs": [],
   "source": [
    "#Create graph#\n",
    "def init_graph(A):\n",
    "\n",
    "    g = nx.convert_matrix.from_numpy_matrix(A)\n",
    "    #Add cyclepath and flow tag to edges#\n",
    "    for u,v,d in g.edges(data=True):\n",
    "        d['cycle'] = False\n",
    "        d['flow'] = 0\n",
    "    return g\n"
   ]
  },
  {
   "cell_type": "code",
   "execution_count": 6,
   "metadata": {},
   "outputs": [
    {
     "data": {
      "image/png": "[encoded data removed]",
      "text/plain": [
       "<Figure size 432x288 with 1 Axes>"
      ]
     },
     "metadata": {},
     "output_type": "display_data"
    }
   ],
   "source": [
    "\n",
    "    \n",
    "g = init_graph(A)\n",
    "\n",
    "nx.draw_networkx(g, pos=pos)"
   ]
  },
  {
   "cell_type": "code",
   "execution_count": 7,
   "metadata": {},
   "outputs": [],
   "source": [
    "def designate_infrastructure(g,cycleEdges):\n",
    "    #edges is a list of the indices of edges for which cycling infrastructure will be applied#\n",
    "    \n",
    "    for idx in cycleEdges:\n",
    "        g.edges[(idx[0],idx[-1])]['cycle'] = True\n",
    "    \n",
    "    return g\n",
    "\n",
    "def clear_infrastructure(g):\n",
    "    \n",
    "    for u,v,d in g.edges(data=True):\n",
    "        d['cycle'] = False\n",
    "        \n",
    "    return g\n",
    "        \n",
    "\n"
   ]
  },
  {
   "cell_type": "code",
   "execution_count": 8,
   "metadata": {},
   "outputs": [],
   "source": [
    "def adjust_weights(g,omega):\n",
    "    #adjust the weights of edges that are not cycle paths#\n",
    "    \n",
    "    gCopy = g.copy()\n",
    "    \n",
    "    for u,v,d in gCopy.edges(data=True):\n",
    "        if d['cycle'] == False:\n",
    "            d['weight'] = d['weight'] * omega\n",
    "            \n",
    "    return gCopy\n",
    "\n"
   ]
  },
  {
   "cell_type": "code",
   "execution_count": 9,
   "metadata": {},
   "outputs": [],
   "source": [
    "def get_shortest_paths(g,odPairs):\n",
    "    paths = []\n",
    "    \n",
    "    for pair in odPairs:\n",
    "        originNode = pair[0]\n",
    "        destinationNode = pair[1]\n",
    "        path = nx.shortest_path(g,source = originNode,target = destinationNode, weight = 'weight')\n",
    "        paths.append(path)\n",
    "    \n",
    "    return paths"
   ]
  },
  {
   "cell_type": "code",
   "execution_count": 10,
   "metadata": {},
   "outputs": [],
   "source": [
    "def edge_flows(g,paths,odPairs,demands):\n",
    "    #take set of shortest paths and assign edge priority#\n",
    "    gCopy = g.copy()\n",
    "    for path in paths:\n",
    "        od = [path[0],path[-1]]\n",
    "        demandIndex = odPairs.index(od)\n",
    "        demand = demands[demandIndex]\n",
    "        for i in range(len(path)-1):\n",
    "            gCopy.edges[(path[i],path[i+1])]['flow'] += demand\n",
    "            \n",
    "        \n",
    "            \n",
    "    return gCopy\n",
    "            "
   ]
  },
  {
   "cell_type": "code",
   "execution_count": 11,
   "metadata": {},
   "outputs": [],
   "source": [
    "def upgrade_graph(g,odPairs,demands,budget,nBatches,omega):\n",
    "    #wrapper function \n",
    "    # g should have cycle edges designated\n",
    "    gCopy = g.copy()\n",
    "    \n",
    "    batchBudget = budget/nBatches\n",
    "    print(batchBudget)\n",
    "    print(' ')\n",
    "    \n",
    "    for i in range(nBatches):\n",
    "        print(gCopy.edges(data=True))\n",
    "        print(' ')\n",
    "        gAdjusted = adjust_weights(gCopy,omega)\n",
    "        \n",
    "        shortestPaths = get_shortest_paths(gAdjusted,odPairs)\n",
    "        \n",
    "        \n",
    "        \n",
    "        gFlows = edge_flows(gCopy,shortestPaths,odPairs,demands)\n",
    "        \n",
    "        print('Flows',gFlows.edges(data=True))\n",
    "        \n",
    "               \n",
    "        edgeRanking = sorted(gFlows.edges(data=True), key=lambda t: t[2].get('flow', 1))\n",
    "        edgeRanking = edgeRanking[::-1]\n",
    "        \n",
    "        \n",
    "        \n",
    "        i = 0\n",
    "        upgradedLength = 0\n",
    "        while upgradedLength < batchBudget:\n",
    "            edgeForUpgrade = [edgeRanking[i][0],edgeRanking[i][1]]\n",
    "            \n",
    "            if  gCopy.edges[(edgeForUpgrade[0],edgeForUpgrade[1])]['cycle'] == False:\n",
    "            \n",
    "                if upgradedLength + gCopy.edges[(edgeForUpgrade[0],edgeForUpgrade[1])]['weight'] <= batchBudget:\n",
    "                    upgradedLength += gCopy.edges[(edgeForUpgrade[0],edgeForUpgrade[1])]['weight']\n",
    "\n",
    "                    gCopy.edges[(edgeForUpgrade[0],edgeForUpgrade[1])]['cycle'] = True\n",
    "                else:\n",
    "                    pass\n",
    "            \n",
    "            \n",
    "            \n",
    "            i +=1\n",
    "        print(gCopy.edges(data=True))\n",
    "        print(' ')\n",
    "            \n",
    "    \n",
    "    return gCopy\n",
    "            \n",
    "            \n",
    "        \n",
    "        \n",
    "        \n",
    "    "
   ]
  },
  {
   "cell_type": "code",
   "execution_count": 12,
   "metadata": {},
   "outputs": [],
   "source": [
    "def colour_cycle_edges(g):\n",
    "    edgeColour = []\n",
    "    for u,v,d in g.edges(data=True):\n",
    "        if d['cycle'] == True:\n",
    "            edgeColour.append('r')\n",
    "        else:\n",
    "            edgeColour.append('black')\n",
    "            \n",
    "    return edgeColour"
   ]
  },
  {
   "cell_type": "code",
   "execution_count": 13,
   "metadata": {},
   "outputs": [
    {
     "name": "stdout",
     "output_type": "stream",
     "text": [
      "[(0, 2, {'weight': 1.0, 'cycle': False, 'flow': 0}), (0, 4, {'weight': 3.0, 'cycle': False, 'flow': 0}), (1, 2, {'weight': 1.0, 'cycle': False, 'flow': 0}), (1, 5, {'weight': 3.0, 'cycle': False, 'flow': 0}), (2, 3, {'weight': 2.0, 'cycle': False, 'flow': 0}), (3, 4, {'weight': 1.0, 'cycle': False, 'flow': 0}), (3, 5, {'weight': 1.0, 'cycle': False, 'flow': 0})]\n",
      "[(0, 2, {'weight': 1.0, 'cycle': False, 'flow': 0}), (0, 4, {'weight': 3.0, 'cycle': False, 'flow': 0}), (1, 2, {'weight': 1.0, 'cycle': False, 'flow': 0}), (1, 5, {'weight': 3.0, 'cycle': False, 'flow': 0}), (2, 3, {'weight': 2.0, 'cycle': True, 'flow': 0}), (3, 4, {'weight': 1.0, 'cycle': False, 'flow': 0}), (3, 5, {'weight': 1.0, 'cycle': False, 'flow': 0})]\n",
      "[(0, 2, {'weight': 1.0, 'cycle': False, 'flow': 0}), (0, 4, {'weight': 3.0, 'cycle': False, 'flow': 0}), (1, 2, {'weight': 1.0, 'cycle': False, 'flow': 0}), (1, 5, {'weight': 3.0, 'cycle': False, 'flow': 0}), (2, 3, {'weight': 2.0, 'cycle': True, 'flow': 0}), (3, 4, {'weight': 1.0, 'cycle': False, 'flow': 0}), (3, 5, {'weight': 1.0, 'cycle': False, 'flow': 0})]\n",
      "[(0, 2, {'weight': 2.0, 'cycle': False, 'flow': 0}), (0, 4, {'weight': 6.0, 'cycle': False, 'flow': 0}), (1, 2, {'weight': 2.0, 'cycle': False, 'flow': 0}), (1, 5, {'weight': 6.0, 'cycle': False, 'flow': 0}), (2, 3, {'weight': 2.0, 'cycle': True, 'flow': 0}), (3, 4, {'weight': 2.0, 'cycle': False, 'flow': 0}), (3, 5, {'weight': 2.0, 'cycle': False, 'flow': 0})]\n"
     ]
    }
   ],
   "source": [
    "\n",
    "print(g.edges(data=True))\n",
    "cycleEdges = [[2,3]]\n",
    "gCycleDesignated = designate_infrastructure(g,cycleEdges)\n",
    "print(gCycleDesignated.edges(data=True))\n",
    "\n",
    "print(gCycleDesignated.edges(data = True))\n",
    "\n",
    "gAdjusted = adjust_weights(gCycleDesignated,2)\n",
    "\n",
    "print(gAdjusted.edges(data = True))\n"
   ]
  },
  {
   "cell_type": "code",
   "execution_count": 14,
   "metadata": {},
   "outputs": [
    {
     "name": "stdout",
     "output_type": "stream",
     "text": [
      "[[0, 4], [0, 2, 3, 5], [1, 2, 3, 4], [1, 5]]\n"
     ]
    }
   ],
   "source": [
    "shortestPaths = get_shortest_paths(gCycleDesignated,odPairs)\n",
    "print(shortestPaths)"
   ]
  },
  {
   "cell_type": "code",
   "execution_count": 15,
   "metadata": {},
   "outputs": [
    {
     "name": "stdout",
     "output_type": "stream",
     "text": [
      "[(0, 2, {'weight': 1.0, 'cycle': False, 'flow': 1}), (0, 4, {'weight': 3.0, 'cycle': False, 'flow': 2}), (1, 2, {'weight': 1.0, 'cycle': False, 'flow': 1}), (1, 5, {'weight': 3.0, 'cycle': False, 'flow': 2}), (2, 3, {'weight': 2.0, 'cycle': True, 'flow': 2}), (3, 4, {'weight': 1.0, 'cycle': False, 'flow': 1}), (3, 5, {'weight': 1.0, 'cycle': False, 'flow': 1})]\n"
     ]
    }
   ],
   "source": [
    "gFlows = edge_flows(gCycleDesignated,shortestPaths,odPairs,demands)\n",
    "print(gFlows.edges(data=True))"
   ]
  },
  {
   "cell_type": "code",
   "execution_count": 16,
   "metadata": {},
   "outputs": [
    {
     "name": "stdout",
     "output_type": "stream",
     "text": [
      "[(0, 2, {'weight': 1.0, 'cycle': False, 'flow': 0}), (0, 4, {'weight': 3.0, 'cycle': False, 'flow': 0}), (1, 2, {'weight': 1.0, 'cycle': False, 'flow': 0}), (1, 5, {'weight': 3.0, 'cycle': False, 'flow': 0}), (2, 3, {'weight': 2.0, 'cycle': True, 'flow': 0}), (3, 4, {'weight': 1.0, 'cycle': False, 'flow': 0}), (3, 5, {'weight': 1.0, 'cycle': False, 'flow': 0})]\n",
      " \n",
      "6.0\n",
      " \n",
      "[(0, 2, {'weight': 1.0, 'cycle': False, 'flow': 0}), (0, 4, {'weight': 3.0, 'cycle': False, 'flow': 0}), (1, 2, {'weight': 1.0, 'cycle': False, 'flow': 0}), (1, 5, {'weight': 3.0, 'cycle': False, 'flow': 0}), (2, 3, {'weight': 2.0, 'cycle': True, 'flow': 0}), (3, 4, {'weight': 1.0, 'cycle': False, 'flow': 0}), (3, 5, {'weight': 1.0, 'cycle': False, 'flow': 0})]\n",
      " \n",
      "Flows [(0, 2, {'weight': 1.0, 'cycle': False, 'flow': 3}), (0, 4, {'weight': 3.0, 'cycle': False, 'flow': 0}), (1, 2, {'weight': 1.0, 'cycle': False, 'flow': 3}), (1, 5, {'weight': 3.0, 'cycle': False, 'flow': 0}), (2, 3, {'weight': 2.0, 'cycle': True, 'flow': 6}), (3, 4, {'weight': 1.0, 'cycle': False, 'flow': 3}), (3, 5, {'weight': 1.0, 'cycle': False, 'flow': 3})]\n"
     ]
    },
    {
     "ename": "IndexError",
     "evalue": "list index out of range",
     "output_type": "error",
     "traceback": [
      "\u001b[1;31m---------------------------------------------------------------------------\u001b[0m",
      "\u001b[1;31mIndexError\u001b[0m                                Traceback (most recent call last)",
      "\u001b[1;32m<ipython-input-16-8be5673b18cd>\u001b[0m in \u001b[0;36m<module>\u001b[1;34m\u001b[0m\n\u001b[0;32m      7\u001b[0m \u001b[0mprint\u001b[0m\u001b[1;33m(\u001b[0m\u001b[1;34m' '\u001b[0m\u001b[1;33m)\u001b[0m\u001b[1;33m\u001b[0m\u001b[1;33m\u001b[0m\u001b[0m\n\u001b[0;32m      8\u001b[0m \u001b[1;33m\u001b[0m\u001b[0m\n\u001b[1;32m----> 9\u001b[1;33m \u001b[0mgUpgraded\u001b[0m \u001b[1;33m=\u001b[0m \u001b[0mupgrade_graph\u001b[0m\u001b[1;33m(\u001b[0m\u001b[0mgCycleDesignated\u001b[0m\u001b[1;33m,\u001b[0m\u001b[0modPairs\u001b[0m\u001b[1;33m,\u001b[0m\u001b[0mdemands\u001b[0m\u001b[1;33m,\u001b[0m\u001b[0mbudget\u001b[0m\u001b[1;33m,\u001b[0m\u001b[0mnBatches\u001b[0m\u001b[1;33m,\u001b[0m\u001b[0momega\u001b[0m\u001b[1;33m)\u001b[0m\u001b[1;33m\u001b[0m\u001b[1;33m\u001b[0m\u001b[0m\n\u001b[0m\u001b[0;32m     10\u001b[0m \u001b[0mprint\u001b[0m\u001b[1;33m(\u001b[0m\u001b[1;34m' '\u001b[0m\u001b[1;33m)\u001b[0m\u001b[1;33m\u001b[0m\u001b[1;33m\u001b[0m\u001b[0m\n\u001b[0;32m     11\u001b[0m \u001b[0mprint\u001b[0m\u001b[1;33m(\u001b[0m\u001b[0mgUpgraded\u001b[0m\u001b[1;33m.\u001b[0m\u001b[0medges\u001b[0m\u001b[1;33m(\u001b[0m\u001b[0mdata\u001b[0m\u001b[1;33m=\u001b[0m\u001b[1;32mTrue\u001b[0m\u001b[1;33m)\u001b[0m\u001b[1;33m)\u001b[0m\u001b[1;33m\u001b[0m\u001b[1;33m\u001b[0m\u001b[0m\n",
      "\u001b[1;32m<ipython-input-11-dd9f1b637c5d>\u001b[0m in \u001b[0;36mupgrade_graph\u001b[1;34m(g, odPairs, demands, budget, nBatches, omega)\u001b[0m\n\u001b[0;32m     30\u001b[0m         \u001b[0mupgradedLength\u001b[0m \u001b[1;33m=\u001b[0m \u001b[1;36m0\u001b[0m\u001b[1;33m\u001b[0m\u001b[1;33m\u001b[0m\u001b[0m\n\u001b[0;32m     31\u001b[0m         \u001b[1;32mwhile\u001b[0m \u001b[0mupgradedLength\u001b[0m \u001b[1;33m<\u001b[0m \u001b[0mbatchBudget\u001b[0m\u001b[1;33m:\u001b[0m\u001b[1;33m\u001b[0m\u001b[1;33m\u001b[0m\u001b[0m\n\u001b[1;32m---> 32\u001b[1;33m             \u001b[0medgeForUpgrade\u001b[0m \u001b[1;33m=\u001b[0m \u001b[1;33m[\u001b[0m\u001b[0medgeRanking\u001b[0m\u001b[1;33m[\u001b[0m\u001b[0mi\u001b[0m\u001b[1;33m]\u001b[0m\u001b[1;33m[\u001b[0m\u001b[1;36m0\u001b[0m\u001b[1;33m]\u001b[0m\u001b[1;33m,\u001b[0m\u001b[0medgeRanking\u001b[0m\u001b[1;33m[\u001b[0m\u001b[0mi\u001b[0m\u001b[1;33m]\u001b[0m\u001b[1;33m[\u001b[0m\u001b[1;36m1\u001b[0m\u001b[1;33m]\u001b[0m\u001b[1;33m]\u001b[0m\u001b[1;33m\u001b[0m\u001b[1;33m\u001b[0m\u001b[0m\n\u001b[0m\u001b[0;32m     33\u001b[0m \u001b[1;33m\u001b[0m\u001b[0m\n\u001b[0;32m     34\u001b[0m             \u001b[1;32mif\u001b[0m  \u001b[0mgCopy\u001b[0m\u001b[1;33m.\u001b[0m\u001b[0medges\u001b[0m\u001b[1;33m[\u001b[0m\u001b[1;33m(\u001b[0m\u001b[0medgeForUpgrade\u001b[0m\u001b[1;33m[\u001b[0m\u001b[1;36m0\u001b[0m\u001b[1;33m]\u001b[0m\u001b[1;33m,\u001b[0m\u001b[0medgeForUpgrade\u001b[0m\u001b[1;33m[\u001b[0m\u001b[1;36m1\u001b[0m\u001b[1;33m]\u001b[0m\u001b[1;33m)\u001b[0m\u001b[1;33m]\u001b[0m\u001b[1;33m[\u001b[0m\u001b[1;34m'cycle'\u001b[0m\u001b[1;33m]\u001b[0m \u001b[1;33m==\u001b[0m \u001b[1;32mFalse\u001b[0m\u001b[1;33m:\u001b[0m\u001b[1;33m\u001b[0m\u001b[1;33m\u001b[0m\u001b[0m\n",
      "\u001b[1;31mIndexError\u001b[0m: list index out of range"
     ]
    }
   ],
   "source": [
    "budget = 6\n",
    "nBatches = 1\n",
    "omega = 3\n",
    "\n",
    "print(gCycleDesignated.edges(data=True))\n",
    "\n",
    "print(' ')\n",
    "\n",
    "gUpgraded = upgrade_graph(gCycleDesignated,odPairs,demands,budget,nBatches,omega)\n",
    "print(' ')\n",
    "print(gUpgraded.edges(data=True))"
   ]
  },
  {
   "cell_type": "code",
   "execution_count": 17,
   "metadata": {},
   "outputs": [
    {
     "name": "stdout",
     "output_type": "stream",
     "text": [
      "['black', 'black', 'black', 'black', 'r', 'black', 'black']\n",
      " \n"
     ]
    },
    {
     "ename": "NameError",
     "evalue": "name 'gUpgraded' is not defined",
     "output_type": "error",
     "traceback": [
      "\u001b[1;31m---------------------------------------------------------------------------\u001b[0m",
      "\u001b[1;31mNameError\u001b[0m                                 Traceback (most recent call last)",
      "\u001b[1;32m<ipython-input-17-550868d00de0>\u001b[0m in \u001b[0;36m<module>\u001b[1;34m\u001b[0m\n\u001b[0;32m      2\u001b[0m \u001b[0mprint\u001b[0m\u001b[1;33m(\u001b[0m\u001b[0mcolourPre\u001b[0m\u001b[1;33m)\u001b[0m\u001b[1;33m\u001b[0m\u001b[1;33m\u001b[0m\u001b[0m\n\u001b[0;32m      3\u001b[0m \u001b[0mprint\u001b[0m\u001b[1;33m(\u001b[0m\u001b[1;34m' '\u001b[0m\u001b[1;33m)\u001b[0m\u001b[1;33m\u001b[0m\u001b[1;33m\u001b[0m\u001b[0m\n\u001b[1;32m----> 4\u001b[1;33m \u001b[0mcolourPost\u001b[0m \u001b[1;33m=\u001b[0m \u001b[0mcolour_cycle_edges\u001b[0m\u001b[1;33m(\u001b[0m\u001b[0mgUpgraded\u001b[0m\u001b[1;33m)\u001b[0m\u001b[1;33m\u001b[0m\u001b[1;33m\u001b[0m\u001b[0m\n\u001b[0m\u001b[0;32m      5\u001b[0m \u001b[0mprint\u001b[0m\u001b[1;33m(\u001b[0m\u001b[0mcolourPost\u001b[0m\u001b[1;33m)\u001b[0m\u001b[1;33m\u001b[0m\u001b[1;33m\u001b[0m\u001b[0m\n\u001b[0;32m      6\u001b[0m \u001b[0mprint\u001b[0m\u001b[1;33m(\u001b[0m\u001b[1;34m' '\u001b[0m\u001b[1;33m)\u001b[0m\u001b[1;33m\u001b[0m\u001b[1;33m\u001b[0m\u001b[0m\n",
      "\u001b[1;31mNameError\u001b[0m: name 'gUpgraded' is not defined"
     ]
    }
   ],
   "source": [
    "colourPre = colour_cycle_edges(gCycleDesignated)\n",
    "print(colourPre)\n",
    "print(' ')\n",
    "colourPost = colour_cycle_edges(gUpgraded)\n",
    "print(colourPost)\n",
    "print(' ')"
   ]
  },
  {
   "cell_type": "code",
   "execution_count": 18,
   "metadata": {},
   "outputs": [
    {
     "data": {
      "image/png": "[encoded data removed]",
      "text/plain": [
       "<Figure size 432x288 with 1 Axes>"
      ]
     },
     "metadata": {},
     "output_type": "display_data"
    }
   ],
   "source": [
    "#draw network before upgrade#\n",
    "nx.draw_networkx(gCycleDesignated, pos=pos, edge_color = colourPre)"
   ]
  },
  {
   "cell_type": "code",
   "execution_count": 19,
   "metadata": {},
   "outputs": [
    {
     "ename": "NameError",
     "evalue": "name 'gUpgraded' is not defined",
     "output_type": "error",
     "traceback": [
      "\u001b[1;31m---------------------------------------------------------------------------\u001b[0m",
      "\u001b[1;31mNameError\u001b[0m                                 Traceback (most recent call last)",
      "\u001b[1;32m<ipython-input-19-471fd49ee304>\u001b[0m in \u001b[0;36m<module>\u001b[1;34m\u001b[0m\n\u001b[0;32m      1\u001b[0m \u001b[1;31m#draw network after upgrade#\u001b[0m\u001b[1;33m\u001b[0m\u001b[1;33m\u001b[0m\u001b[1;33m\u001b[0m\u001b[0m\n\u001b[1;32m----> 2\u001b[1;33m \u001b[0mnx\u001b[0m\u001b[1;33m.\u001b[0m\u001b[0mdraw_networkx\u001b[0m\u001b[1;33m(\u001b[0m\u001b[0mgUpgraded\u001b[0m\u001b[1;33m,\u001b[0m \u001b[0mpos\u001b[0m\u001b[1;33m=\u001b[0m\u001b[0mpos\u001b[0m\u001b[1;33m,\u001b[0m \u001b[0medge_color\u001b[0m \u001b[1;33m=\u001b[0m \u001b[0mcolourPost\u001b[0m\u001b[1;33m)\u001b[0m\u001b[1;33m\u001b[0m\u001b[1;33m\u001b[0m\u001b[0m\n\u001b[0m",
      "\u001b[1;31mNameError\u001b[0m: name 'gUpgraded' is not defined"
     ]
    }
   ],
   "source": [
    "#draw network after upgrade#\n",
    "nx.draw_networkx(gUpgraded, pos=pos, edge_color = colourPost)"
   ]
  },
  {
   "cell_type": "code",
   "execution_count": 29,
   "metadata": {},
   "outputs": [
    {
     "name": "stdout",
     "output_type": "stream",
     "text": [
      "6.0\n",
      " \n",
      "[(0, 2, {'weight': 1.0, 'cycle': False, 'flow': 0}), (0, 4, {'weight': 3.0, 'cycle': False, 'flow': 0}), (1, 2, {'weight': 1.0, 'cycle': False, 'flow': 0}), (1, 5, {'weight': 3.0, 'cycle': False, 'flow': 0}), (2, 3, {'weight': 2.0, 'cycle': False, 'flow': 0}), (3, 4, {'weight': 1.0, 'cycle': False, 'flow': 0}), (3, 5, {'weight': 1.0, 'cycle': False, 'flow': 0})]\n",
      " \n",
      "Flows [(0, 2, {'weight': 1.0, 'cycle': False, 'flow': 1}), (0, 4, {'weight': 3.0, 'cycle': False, 'flow': 1.5}), (1, 2, {'weight': 1.0, 'cycle': False, 'flow': 1}), (1, 5, {'weight': 3.0, 'cycle': False, 'flow': 1.5}), (2, 3, {'weight': 2.0, 'cycle': False, 'flow': 2}), (3, 4, {'weight': 1.0, 'cycle': False, 'flow': 1}), (3, 5, {'weight': 1.0, 'cycle': False, 'flow': 1})]\n",
      "[(0, 2, {'weight': 1.0, 'cycle': False, 'flow': 0}), (0, 4, {'weight': 3.0, 'cycle': False, 'flow': 0}), (1, 2, {'weight': 1.0, 'cycle': False, 'flow': 0}), (1, 5, {'weight': 3.0, 'cycle': True, 'flow': 0}), (2, 3, {'weight': 2.0, 'cycle': True, 'flow': 0}), (3, 4, {'weight': 1.0, 'cycle': False, 'flow': 0}), (3, 5, {'weight': 1.0, 'cycle': True, 'flow': 0})]\n",
      " \n"
     ]
    },
    {
     "data": {
      "image/png": "[encoded data removed]",
      "text/plain": [
       "<Figure size 432x288 with 1 Axes>"
      ]
     },
     "metadata": {},
     "output_type": "display_data"
    }
   ],
   "source": [
    "#Test batch vs oneshot on a network with no initial infrastructure\n",
    "d15 = 1.5\n",
    "d16 = 1\n",
    "d25 = 1\n",
    "d26 = 1.5\n",
    "demands = [d15,d16,d25,d26]\n",
    "\n",
    "g = init_graph(A)\n",
    "\n",
    "cycleEdges = []\n",
    "\n",
    "gCycleDesignated = designate_infrastructure(g,cycleEdges)\n",
    "\n",
    "\n",
    "budget = 6\n",
    "omega = 2\n",
    "\n",
    "gUpgradedOneBatch = upgrade_graph(gCycleDesignated,odPairs,demands,budget, 1,omega)\n",
    "\n",
    "\n",
    "\n",
    "colourOneBatch = colour_cycle_edges(gUpgradedOneBatch)\n",
    "\n",
    "\n",
    "\n",
    "\n",
    "\n",
    "nx.draw_networkx(gUpgradedOneBatch, pos=pos, edge_color = colourOneBatch)\n",
    "\n",
    "\n",
    "\n"
   ]
  },
  {
   "cell_type": "code",
   "execution_count": 30,
   "metadata": {},
   "outputs": [
    {
     "name": "stdout",
     "output_type": "stream",
     "text": [
      "3.0\n",
      " \n",
      "[(0, 2, {'weight': 1.0, 'cycle': False, 'flow': 0}), (0, 4, {'weight': 3.0, 'cycle': False, 'flow': 0}), (1, 2, {'weight': 1.0, 'cycle': False, 'flow': 0}), (1, 5, {'weight': 3.0, 'cycle': False, 'flow': 0}), (2, 3, {'weight': 2.0, 'cycle': False, 'flow': 0}), (3, 4, {'weight': 1.0, 'cycle': False, 'flow': 0}), (3, 5, {'weight': 1.0, 'cycle': False, 'flow': 0})]\n",
      " \n",
      "Flows [(0, 2, {'weight': 1.0, 'cycle': False, 'flow': 1}), (0, 4, {'weight': 3.0, 'cycle': False, 'flow': 1.5}), (1, 2, {'weight': 1.0, 'cycle': False, 'flow': 1}), (1, 5, {'weight': 3.0, 'cycle': False, 'flow': 1.5}), (2, 3, {'weight': 2.0, 'cycle': False, 'flow': 2}), (3, 4, {'weight': 1.0, 'cycle': False, 'flow': 1}), (3, 5, {'weight': 1.0, 'cycle': False, 'flow': 1})]\n",
      "[(0, 2, {'weight': 1.0, 'cycle': False, 'flow': 0}), (0, 4, {'weight': 3.0, 'cycle': False, 'flow': 0}), (1, 2, {'weight': 1.0, 'cycle': False, 'flow': 0}), (1, 5, {'weight': 3.0, 'cycle': False, 'flow': 0}), (2, 3, {'weight': 2.0, 'cycle': True, 'flow': 0}), (3, 4, {'weight': 1.0, 'cycle': False, 'flow': 0}), (3, 5, {'weight': 1.0, 'cycle': True, 'flow': 0})]\n",
      " \n",
      "[(0, 2, {'weight': 1.0, 'cycle': False, 'flow': 0}), (0, 4, {'weight': 3.0, 'cycle': False, 'flow': 0}), (1, 2, {'weight': 1.0, 'cycle': False, 'flow': 0}), (1, 5, {'weight': 3.0, 'cycle': False, 'flow': 0}), (2, 3, {'weight': 2.0, 'cycle': True, 'flow': 0}), (3, 4, {'weight': 1.0, 'cycle': False, 'flow': 0}), (3, 5, {'weight': 1.0, 'cycle': True, 'flow': 0})]\n",
      " \n",
      "Flows [(0, 2, {'weight': 1.0, 'cycle': False, 'flow': 1}), (0, 4, {'weight': 3.0, 'cycle': False, 'flow': 1.5}), (1, 2, {'weight': 1.0, 'cycle': False, 'flow': 2.5}), (1, 5, {'weight': 3.0, 'cycle': False, 'flow': 0}), (2, 3, {'weight': 2.0, 'cycle': True, 'flow': 3.5}), (3, 4, {'weight': 1.0, 'cycle': False, 'flow': 1}), (3, 5, {'weight': 1.0, 'cycle': True, 'flow': 2.5})]\n",
      "[(0, 2, {'weight': 1.0, 'cycle': True, 'flow': 0}), (0, 4, {'weight': 3.0, 'cycle': False, 'flow': 0}), (1, 2, {'weight': 1.0, 'cycle': True, 'flow': 0}), (1, 5, {'weight': 3.0, 'cycle': False, 'flow': 0}), (2, 3, {'weight': 2.0, 'cycle': True, 'flow': 0}), (3, 4, {'weight': 1.0, 'cycle': True, 'flow': 0}), (3, 5, {'weight': 1.0, 'cycle': True, 'flow': 0})]\n",
      " \n"
     ]
    }
   ],
   "source": [
    "gUpgradedMultipleBatches = upgrade_graph(gCycleDesignated,odPairs,demands,budget,2,omega)\n",
    "colourMultipleBatches = colour_cycle_edges(gUpgradedMultipleBatches)"
   ]
  },
  {
   "cell_type": "code",
   "execution_count": 31,
   "metadata": {},
   "outputs": [
    {
     "data": {
      "image/png": "[encoded data removed]",
      "text/plain": [
       "<Figure size 432x288 with 1 Axes>"
      ]
     },
     "metadata": {},
     "output_type": "display_data"
    }
   ],
   "source": [
    "nx.draw_networkx(gUpgradedMultipleBatches, pos=pos, edge_color = colourMultipleBatches)"
   ]
  },
  {
   "cell_type": "code",
   "execution_count": 32,
   "metadata": {},
   "outputs": [],
   "source": [
    "def scoring_function(g,odPairs,demands,omega=2):\n",
    "    gAdjusted = adjust_weights(g,omega)\n",
    "    shortestPaths = get_shortest_paths(gAdjusted,odPairs)\n",
    "    pctCycle = []\n",
    "    for path in shortestPaths:\n",
    "        pathLen = 0\n",
    "        cycleLen = 0\n",
    "        for i in range(len(path)-1):\n",
    "            edge = [path[i],path[i+1]]\n",
    "            pathLen += g.edges[(edge[0],edge[1])]['weight']\n",
    "            if g.edges[(edge[0],edge[1])]['cycle'] == True:\n",
    "                cycleLen += g.edges[(edge[0],edge[1])]['weight']\n",
    "                \n",
    "        pct = (cycleLen/pathLen) \n",
    "        pctCycle.append(pct)\n",
    "    \n",
    "    score = 0\n",
    "    \n",
    "    for i in range(len(demands)):\n",
    "        score += demands[i] * pctCycle[i]\n",
    "        \n",
    "    return score/sum(demands)\n",
    "            \n",
    "    "
   ]
  },
  {
   "cell_type": "code",
   "execution_count": 33,
   "metadata": {},
   "outputs": [
    {
     "name": "stdout",
     "output_type": "stream",
     "text": [
      "0.55\n"
     ]
    }
   ],
   "source": [
    "oneshotScores = scoring_function(gUpgradedOneBatch,odPairs,demands,omega = 2)\n",
    "print(oneshotScores)"
   ]
  },
  {
   "cell_type": "code",
   "execution_count": 34,
   "metadata": {},
   "outputs": [
    {
     "name": "stdout",
     "output_type": "stream",
     "text": [
      "1.0\n"
     ]
    }
   ],
   "source": [
    "multiBatchScores = scoring_function(gUpgradedMultipleBatches,odPairs,demands,omega = 2)\n",
    "print(multiBatchScores)"
   ]
  },
  {
   "cell_type": "code",
   "execution_count": 35,
   "metadata": {},
   "outputs": [],
   "source": [
    "def powerset(seq):\n",
    "    \"\"\"\n",
    "    Returns all the subsets of this set. This is a generator.\n",
    "    \"\"\"\n",
    "    if len(seq) <= 1:\n",
    "        yield seq\n",
    "        yield []\n",
    "    else:\n",
    "        for item in powerset(seq[1:]):\n",
    "            yield [seq[0]]+item\n",
    "            yield item\n",
    "\n"
   ]
  },
  {
   "cell_type": "code",
   "execution_count": 36,
   "metadata": {},
   "outputs": [],
   "source": [
    "def find_optimal(g,odPairs,demands,omega,budget):\n",
    "    gCopy = g.copy()\n",
    "    edges = list(gCopy.edges())\n",
    "    \n",
    "    pSet = [x for x in powerset(edges)]\n",
    "    scores = []\n",
    "    counter = 0\n",
    "    counterList = []\n",
    "    for edgeSet in pSet:\n",
    "        gCopy = g\n",
    "        lenSet = 0\n",
    "        for edge in edgeSet:\n",
    "            lenSet += gCopy.edges[edge]['weight']\n",
    "        if lenSet <= budget:\n",
    "            \n",
    "            gCycle = designate_infrastructure(gCopy,edgeSet)\n",
    "           \n",
    "            \n",
    "            score = scoring_function(gCycle,odPairs,demands,omega)\n",
    "            scores.append(score)\n",
    "            counterList.append(counter) \n",
    "            \n",
    "            \n",
    "            gCycle = clear_infrastructure(gCycle)\n",
    "        counter += 1\n",
    "    \n",
    "    \n",
    "    optimalIndexCounter = scores.index(max(scores))\n",
    "    \n",
    "   \n",
    "    \n",
    "    optimalEdgeSet = pSet[counterList[optimalIndexCounter]]\n",
    "    \n",
    "    gCopy = clear_infrastructure(gCopy)\n",
    "    \n",
    "    gOptimal = designate_infrastructure(gCopy,optimalEdgeSet)\n",
    "    \n",
    "    return gOptimal, max(scores)\n",
    "            \n",
    "            \n",
    "            \n",
    "        \n",
    "    "
   ]
  },
  {
   "cell_type": "code",
   "execution_count": 37,
   "metadata": {},
   "outputs": [
    {
     "name": "stdout",
     "output_type": "stream",
     "text": [
      "\n",
      "[(0, 2, {'weight': 1.0, 'cycle': True, 'flow': 0}), (0, 4, {'weight': 3.0, 'cycle': False, 'flow': 0}), (1, 2, {'weight': 1.0, 'cycle': True, 'flow': 0}), (1, 5, {'weight': 3.0, 'cycle': False, 'flow': 0}), (2, 3, {'weight': 2.0, 'cycle': True, 'flow': 0}), (3, 4, {'weight': 1.0, 'cycle': True, 'flow': 0}), (3, 5, {'weight': 1.0, 'cycle': True, 'flow': 0})]\n",
      " \n",
      "1.0\n"
     ]
    }
   ],
   "source": [
    "g = init_graph(A)\n",
    "gOptimal,score = find_optimal(g,odPairs,demands,omega,budget)\n",
    "\n",
    "print('')\n",
    "print(gOptimal.edges(data=True))\n",
    "print(' ')\n",
    "print(score)"
   ]
  },
  {
   "cell_type": "code",
   "execution_count": null,
   "metadata": {},
   "outputs": [],
   "source": []
  },
  {
   "cell_type": "code",
   "execution_count": null,
   "metadata": {},
   "outputs": [],
   "source": []
  }
 ],
 "metadata": {
  "kernelspec": {
   "display_name": "Python 3",
   "language": "python",
   "name": "python3"
  },
  "language_info": {
   "codemirror_mode": {
    "name": "ipython",
    "version": 3
   },
   "file_extension": ".py",
   "mimetype": "text/x-python",
   "name": "python",
   "nbconvert_exporter": "python",
   "pygments_lexer": "ipython3",
   "version": "3.8.3"
  }
 },
 "nbformat": 4,
 "nbformat_minor": 4
}
