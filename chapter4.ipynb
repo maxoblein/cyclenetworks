{
 "cells": [
  {
   "cell_type": "markdown",
   "metadata": {},
   "source": [
    "Code for the analysis of a small toy network for chapter 4 of my final year project\n"
   ]
  },
  {
   "cell_type": "code",
   "execution_count": 3,
   "metadata": {},
   "outputs": [],
   "source": [
    "##Imports \n",
    "import numpy as np\n",
    "import pandas as pd\n",
    "import networkx as nx"
   ]
  },
  {
   "cell_type": "code",
   "execution_count": 4,
   "metadata": {},
   "outputs": [
    {
     "name": "stdout",
     "output_type": "stream",
     "text": [
      "hello world\n"
     ]
    }
   ],
   "source": [
    "print('hello world')"
   ]
  },
  {
   "cell_type": "code",
   "execution_count": 27,
   "metadata": {},
   "outputs": [
    {
     "name": "stdout",
     "output_type": "stream",
     "text": [
      "[[0. 0. 0. 0. 0. 0.]\n",
      " [0. 0. 0. 0. 0. 0.]\n",
      " [0. 0. 0. 0. 0. 0.]\n",
      " [0. 0. 0. 0. 0. 0.]\n",
      " [0. 0. 0. 0. 0. 0.]\n",
      " [0. 0. 0. 0. 0. 0.]]\n",
      "[[0. 0. 1. 0. 3. 0.]\n",
      " [0. 0. 1. 0. 0. 3.]\n",
      " [1. 1. 0. 2. 0. 0.]\n",
      " [0. 0. 2. 0. 1. 1.]\n",
      " [3. 0. 0. 1. 0. 0.]\n",
      " [0. 3. 0. 1. 0. 0.]]\n"
     ]
    }
   ],
   "source": [
    "#make adjacency matrix#\n",
    "\n",
    "A = np.zeros((6,6))\n",
    "print(A)\n",
    "links = [[0,4,3],[0,2,1],[1,2,1],[1,5,3],[2,3,2],[3,4,1],[3,5,1]]\n",
    "for i in links:\n",
    "    A[i[0]][i[1]] = i[2]\n",
    "    A[i[1]][i[0]] = i[2]    \n",
    "\n",
    "print(A)\n",
    "\n",
    "\n",
    "\n"
   ]
  },
  {
   "cell_type": "code",
   "execution_count": 41,
   "metadata": {},
   "outputs": [],
   "source": [
    "#demands#\n",
    "\n",
    "d15 = 1\n",
    "d16 = 0\n",
    "d25 = 0\n",
    "d26 = 1\n",
    "d = [d15,d16,d25,d26]"
   ]
  },
  {
   "cell_type": "code",
   "execution_count": 42,
   "metadata": {},
   "outputs": [
    {
     "name": "stdout",
     "output_type": "stream",
     "text": [
      "[(0, 2, {'weight': 1.0}), (0, 4, {'weight': 3.0}), (1, 2, {'weight': 1.0}), (1, 5, {'weight': 3.0}), (2, 3, {'weight': 2.0}), (3, 4, {'weight': 1.0}), (3, 5, {'weight': 1.0})]\n"
     ]
    }
   ],
   "source": [
    "#Create graph#\n",
    "\n",
    "g = nx.convert_matrix.from_numpy_matrix(A)\n",
    "\n",
    "print(g.edges(data=True))"
   ]
  },
  {
   "cell_type": "code",
   "execution_count": 43,
   "metadata": {},
   "outputs": [
    {
     "name": "stdout",
     "output_type": "stream",
     "text": [
      "[(0, 2, {'weight': 1.0, 'cycle': False}), (0, 4, {'weight': 3.0, 'cycle': False}), (1, 2, {'weight': 1.0, 'cycle': False}), (1, 5, {'weight': 3.0, 'cycle': False}), (2, 3, {'weight': 2.0, 'cycle': False}), (3, 4, {'weight': 1.0, 'cycle': False}), (3, 5, {'weight': 1.0, 'cycle': False})]\n"
     ]
    }
   ],
   "source": [
    "#Add cyclepath tag to edges#\n",
    "for u,v,d in g.edges(data=True):\n",
    "    d['cycle'] = False\n",
    "    \n",
    "print(g.edges(data=True))"
   ]
  },
  {
   "cell_type": "code",
   "execution_count": 44,
   "metadata": {},
   "outputs": [],
   "source": [
    "def designate_infrastructure(g,cycleEdges):\n",
    "    #edges is a list of the indices of edges for which cycling infrastructure will be applied#\n",
    "    for idx in cycleEdges:\n",
    "        g.edges[(idx[0],idx[-1])]['cycle'] = True\n",
    "    \n",
    "    return g\n",
    "        \n",
    "\n"
   ]
  },
  {
   "cell_type": "code",
   "execution_count": 45,
   "metadata": {},
   "outputs": [
    {
     "name": "stdout",
     "output_type": "stream",
     "text": [
      "[(0, 2, {'weight': 1.0, 'cycle': False}), (0, 4, {'weight': 3.0, 'cycle': False}), (1, 2, {'weight': 1.0, 'cycle': False}), (1, 5, {'weight': 3.0, 'cycle': False}), (2, 3, {'weight': 2.0, 'cycle': False}), (3, 4, {'weight': 1.0, 'cycle': False}), (3, 5, {'weight': 1.0, 'cycle': False})]\n",
      "[(0, 2, {'weight': 1.0, 'cycle': False}), (0, 4, {'weight': 3.0, 'cycle': False}), (1, 2, {'weight': 1.0, 'cycle': False}), (1, 5, {'weight': 3.0, 'cycle': False}), (2, 3, {'weight': 2.0, 'cycle': True}), (3, 4, {'weight': 1.0, 'cycle': True}), (3, 5, {'weight': 1.0, 'cycle': False})]\n"
     ]
    }
   ],
   "source": [
    "print(g.edges(data=True))\n",
    "cycleEdges = [[2,3],[3,4]]\n",
    "gCycleDesignated = designate_infrastructure(g,cycleEdges)\n",
    "print(gCycleDesignated.edges(data=True))"
   ]
  },
  {
   "cell_type": "code",
   "execution_count": 48,
   "metadata": {},
   "outputs": [],
   "source": [
    "def adjust_weights(g,omega):\n",
    "    #adjust the weights of edges that are not cycle paths#\n",
    "    for u,v,d in g.edges(data=True):\n",
    "        if d['cycle'] == False:\n",
    "            d['weight'] = d['weight'] * omega\n",
    "            \n",
    "    return g\n",
    "\n"
   ]
  },
  {
   "cell_type": "code",
   "execution_count": 49,
   "metadata": {},
   "outputs": [
    {
     "name": "stdout",
     "output_type": "stream",
     "text": [
      "[(0, 2, {'weight': 1.0, 'cycle': False}), (0, 4, {'weight': 3.0, 'cycle': False}), (1, 2, {'weight': 1.0, 'cycle': False}), (1, 5, {'weight': 3.0, 'cycle': False}), (2, 3, {'weight': 4.0, 'cycle': True}), (3, 4, {'weight': 2.0, 'cycle': True}), (3, 5, {'weight': 1.0, 'cycle': False})]\n",
      "[(0, 2, {'weight': 1.0, 'cycle': False}), (0, 4, {'weight': 3.0, 'cycle': False}), (1, 2, {'weight': 1.0, 'cycle': False}), (1, 5, {'weight': 3.0, 'cycle': False}), (2, 3, {'weight': 4.0, 'cycle': True}), (3, 4, {'weight': 2.0, 'cycle': True}), (3, 5, {'weight': 1.0, 'cycle': False})]\n",
      "[(0, 2, {'weight': 2.0, 'cycle': False}), (0, 4, {'weight': 6.0, 'cycle': False}), (1, 2, {'weight': 2.0, 'cycle': False}), (1, 5, {'weight': 6.0, 'cycle': False}), (2, 3, {'weight': 4.0, 'cycle': True}), (3, 4, {'weight': 2.0, 'cycle': True}), (3, 5, {'weight': 2.0, 'cycle': False})]\n"
     ]
    }
   ],
   "source": [
    "print(g.edges(data = True))\n",
    "\n",
    "print(gCycleDesignated.edges(data = True))\n",
    "\n",
    "gAdjusted = adjust_weights(gCycleDesignated,2)\n",
    "\n",
    "print(gAdjusted.edges(data = True))\n"
   ]
  },
  {
   "cell_type": "code",
   "execution_count": null,
   "metadata": {},
   "outputs": [],
   "source": []
  }
 ],
 "metadata": {
  "kernelspec": {
   "display_name": "Python 3",
   "language": "python",
   "name": "python3"
  },
  "language_info": {
   "codemirror_mode": {
    "name": "ipython",
    "version": 3
   },
   "file_extension": ".py",
   "mimetype": "text/x-python",
   "name": "python",
   "nbconvert_exporter": "python",
   "pygments_lexer": "ipython3",
   "version": "3.8.3"
  }
 },
 "nbformat": 4,
 "nbformat_minor": 4
}
